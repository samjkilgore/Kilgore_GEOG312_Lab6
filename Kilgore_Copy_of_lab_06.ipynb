{
  "cells": [
    {
      "cell_type": "markdown",
      "metadata": {
        "id": "ulq2DSlw4-Pv"
      },
      "source": [
        "[![image](https://colab.research.google.com/assets/colab-badge.svg)](https://colab.research.google.com/github/giswqs/geog-312/blob/master/labs/lab_06.ipynb)\n",
        "[![image](https://binder.pangeo.io/badge_logo.svg)](https://gishub.org/geog312-pangeo)\n",
        "\n",
        "**Sam Kilgore**"
      ]
    },
    {
      "cell_type": "code",
      "execution_count": null,
      "metadata": {
        "id": "tNa3X9GR4-Py"
      },
      "outputs": [],
      "source": [
        "from datetime import datetime\n",
        "\n",
        "now = datetime.now()\n",
        "print(f\"Submitted time: {now}\")"
      ]
    },
    {
      "cell_type": "markdown",
      "metadata": {
        "id": "kqZqj4jI4-Pz"
      },
      "source": [
        "## Question 1\n",
        "**Message:** Write a function called `display_message()` that prints one sentence telling everyone what you are learning about in this chapter. Call the function, and make sure the message displays correctly."
      ]
    },
    {
      "cell_type": "code",
      "execution_count": null,
      "metadata": {
        "id": "JExbQw2A4-Pz",
        "colab": {
          "base_uri": "https://localhost:8080/"
        },
        "outputId": "7f42b34e-8d72-4824-810b-751d3cf6ed51"
      },
      "outputs": [
        {
          "output_type": "stream",
          "name": "stdout",
          "text": [
            "In this chapter, I am learning about functions.\n"
          ]
        }
      ],
      "source": [
        "def display_message():\n",
        "  print(\"In this chapter, I am learning about functions.\")\n",
        "\n",
        "display_message()"
      ]
    },
    {
      "cell_type": "markdown",
      "metadata": {
        "id": "Kyw-P6ql4-Pz"
      },
      "source": [
        "## Question 2\n",
        "**Favorite Book:** Write a function called `favorite_book()` that accepts one parameter, title. The function should print a message, such as `One of my favorite books is Alice in Wonderland`. Call the function, making sure to include a book title as an argument in the function call."
      ]
    },
    {
      "cell_type": "code",
      "execution_count": null,
      "metadata": {
        "id": "W5Bp_h3p4-P0",
        "colab": {
          "base_uri": "https://localhost:8080/"
        },
        "outputId": "b409c9e5-5f2c-4a59-d937-24ca869f4cf8"
      },
      "outputs": [
        {
          "output_type": "stream",
          "name": "stdout",
          "text": [
            "One of my favorite books is The Call of the Wild.\n"
          ]
        }
      ],
      "source": [
        "def favorite_book(title):\n",
        "  print(f\"One of my favorite books is {title}.\")\n",
        "\n",
        "favorite_book(\"The Call of the Wild\")"
      ]
    },
    {
      "cell_type": "markdown",
      "metadata": {
        "id": "kOrgAUHP4-P0"
      },
      "source": [
        "## Question 3\n",
        "**T-Shirt:** Write a function called `make_shirt()` that accepts a size and the text of a message that should be printed on the shirt. The function should print a sentence summarizing the size of the shirt and the message printed on it.\n",
        "\n",
        "Call the function once using positional arguments to make a shirt. Call the function a second time using keyword arguments."
      ]
    },
    {
      "cell_type": "code",
      "execution_count": null,
      "metadata": {
        "id": "ERJgCXr74-P0",
        "colab": {
          "base_uri": "https://localhost:8080/"
        },
        "outputId": "76c5cf89-142a-4087-eb37-087e54f611d0"
      },
      "outputs": [
        {
          "output_type": "stream",
          "name": "stdout",
          "text": [
            "You ordered a size M shirt that will have \"Titans\" printed on it.\n",
            "You ordered a size M shirt that will have \"Titans\" printed on it.\n"
          ]
        }
      ],
      "source": [
        "def make_shirt(size, text):\n",
        "  print(f\"You ordered a size {size} shirt that will have \\\"{text}\\\" printed on it.\")\n",
        "\n",
        "make_shirt(\"M\", \"Titans\")\n",
        "make_shirt(size = \"M\", text = \"Titans\")"
      ]
    },
    {
      "cell_type": "markdown",
      "metadata": {
        "id": "YwDujXgb4-P0"
      },
      "source": [
        "## Question 4\n",
        "**Large Shirts:** Modify the `make_shirt()` function so that shirts are large by default with a message that reads *I love Python*. Make a large shirt and a medium shirt with the default message, and a shirt of any size with a different message."
      ]
    },
    {
      "cell_type": "code",
      "execution_count": null,
      "metadata": {
        "id": "j2Xa5I1Y4-P1",
        "colab": {
          "base_uri": "https://localhost:8080/"
        },
        "outputId": "0cc9b7b9-4ab0-4128-9684-ca75d2ecdb56"
      },
      "outputs": [
        {
          "output_type": "stream",
          "name": "stdout",
          "text": [
            "You ordered a size L shirt that will have \"I love Python.\" printed on it.\n",
            "You ordered a size M shirt that will have \"I love Python.\" printed on it.\n",
            "You ordered a size XL shirt that will have \"But I prefer R.\" printed on it.\n"
          ]
        }
      ],
      "source": [
        "def make_shirt(size = \"L\", text = \"I love Python.\"):\n",
        "  print(f\"You ordered a size {size} shirt that will have \\\"{text}\\\" printed on it.\")\n",
        "\n",
        "make_shirt()\n",
        "make_shirt(\"M\")\n",
        "make_shirt(\"XL\", \"But I prefer R.\")"
      ]
    },
    {
      "cell_type": "markdown",
      "metadata": {
        "id": "ot42W7Gt4-P1"
      },
      "source": [
        "## Question 5\n",
        "**Cities:** Write a function called `describe_city()` that accepts the name of a city and its country. The function should print a simple sentence, such as `Reykjavik is in Iceland`. Give the parameter for the country a default value. Call your function for three different cities, at least one of which is not in the default country."
      ]
    },
    {
      "cell_type": "code",
      "execution_count": null,
      "metadata": {
        "id": "GI4ElNwW4-P1",
        "colab": {
          "base_uri": "https://localhost:8080/"
        },
        "outputId": "db40d533-6348-4d3f-9df8-b6d7bea5a16f"
      },
      "outputs": [
        {
          "output_type": "stream",
          "name": "stdout",
          "text": [
            "Montreal is in Canada.\n",
            "Toronto is in Canada.\n",
            "Johannesburg is in Canada.\n"
          ]
        }
      ],
      "source": [
        "def describe_city(city, country = \"Canada\"):\n",
        "  print(f\"{city} is in {country}.\")\n",
        "\n",
        "describe_city(\"Montreal\")\n",
        "describe_city(city = \"Toronto\")\n",
        "describe_city(\"Johannesburg\")"
      ]
    },
    {
      "cell_type": "markdown",
      "metadata": {
        "id": "JLVlU_7F4-P1"
      },
      "source": [
        "## Question 6\n",
        "**City Names:** Write a function called `city_country()` that takes in the name of a city and its country. The function should return a string formatted like this:\n",
        "```\n",
        "Santiago, Chile\n",
        "```\n",
        "Call your function with at least three city-country pairs, and print the values that are returned."
      ]
    },
    {
      "cell_type": "code",
      "execution_count": null,
      "metadata": {
        "id": "lL5flOi44-P1",
        "colab": {
          "base_uri": "https://localhost:8080/"
        },
        "outputId": "18ddcd3b-51cd-4c69-9a9b-487269e41512"
      },
      "outputs": [
        {
          "output_type": "stream",
          "name": "stdout",
          "text": [
            "Madrid, Spain\n",
            "Denver, the United States\n",
            "Paris, France\n"
          ]
        }
      ],
      "source": [
        "def city_country(city, country):\n",
        "  print(f\"{city}, {country}\")\n",
        "\n",
        "city_country(\"Madrid\", \"Spain\")\n",
        "city_country(city = \"Denver\", country = \"the United States\")\n",
        "city_country(country = \"France\", city = \"Paris\")"
      ]
    },
    {
      "cell_type": "markdown",
      "metadata": {
        "id": "BQfyXdTu4-P1"
      },
      "source": [
        "## Question 7\n",
        "**Album:** Write a function called `make_album()` that builds a dictionary describing a music album. The function should take in an artist name and an album title, and it should return a dictionary containing these two pieces of information. Use the function to make three dictionaries representing different albums. Print each return value to show that the dictionaries are storing the album information correctly.\n",
        "\n",
        "Use None to add an optional parameter to make_album() that allows you to store the number of songs on an album. If the calling line includes a value for the number of songs, add that value to the album’s dictionary. Make at least one new function call that includes the number of songs on an album."
      ]
    },
    {
      "cell_type": "code",
      "execution_count": null,
      "metadata": {
        "id": "NvUcdKXY4-P1",
        "colab": {
          "base_uri": "https://localhost:8080/"
        },
        "outputId": "2a567a9e-8ace-4cb8-b861-5b7ab48d10c2"
      },
      "outputs": [
        {
          "output_type": "stream",
          "name": "stdout",
          "text": [
            "{'artist': 'Billy Joel', 'album': 'The Stranger'}\n",
            "{'artist': 'Marky Mark and The Funky Bunch', 'album': 'Music For The People'}\n",
            "{'artist': 'The Chicks', 'album': 'Wide Open Spaces'}\n",
            "\n",
            "\n",
            "{'artist': 'Billy Joel', 'album': 'The Stranger'}\n",
            "{'artist': 'Billy Joel', 'album': 'The Stranger', 'track count': 9}\n"
          ]
        }
      ],
      "source": [
        "def make_album(artist_name, album_title):\n",
        "  artist = {'artist':artist_name, 'album':album_title}\n",
        "  return artist\n",
        "\n",
        "print(make_album(\"Billy Joel\", \"The Stranger\"))\n",
        "print(make_album(\"Marky Mark and The Funky Bunch\", \"Music For The People\"))\n",
        "print(make_album(\"The Chicks\", \"Wide Open Spaces\"))\n",
        "\n",
        "print(\"\\n\")\n",
        "\n",
        "def make_album(artist_name, album_title, song_num = ''):\n",
        "  if song_num:\n",
        "    artist = {'artist':artist_name, 'album':album_title, 'track count':song_num}\n",
        "  else:\n",
        "    artist = {'artist':artist_name, 'album':album_title}\n",
        "  return artist\n",
        "\n",
        "print(make_album(\"Billy Joel\", \"The Stranger\"))\n",
        "print(make_album(\"Billy Joel\", \"The Stranger\", 9))"
      ]
    },
    {
      "cell_type": "markdown",
      "metadata": {
        "id": "KxbQPXCt4-P1"
      },
      "source": [
        "## Question 8\n",
        "**User Albums:** Start with your program from Question 7. Write a `while` loop that allows users to enter an album’s artist and title. Once you have that information, call `make_album()` with the user’s input and print the dictionary that’s created. Be sure to include a quit value in the `while` loop."
      ]
    },
    {
      "cell_type": "code",
      "execution_count": null,
      "metadata": {
        "id": "IMlBfKck4-P2",
        "colab": {
          "base_uri": "https://localhost:8080/"
        },
        "outputId": "7c8d6bfe-04ac-44a9-bcfd-8f5934e6390a"
      },
      "outputs": [
        {
          "name": "stdout",
          "output_type": "stream",
          "text": [
            "Enter 'q' at any time to quit.\n",
            "What is the artist's name? Jon bon jovi\n",
            "What is the name of the album? Bon juvie\n",
            "Optional: how many songs are in Bon juvie? 0\n",
            "{'artist': 'Jon bon jovi', 'album': 'Bon juvie', 'track count': '0'}\n",
            "Enter 'q' at any time to quit.\n",
            "What is the artist's name? j\n",
            "What is the name of the album? l\n",
            "Optional: how many songs are in l? \n",
            "{'artist': 'j', 'album': 'l'}\n",
            "Enter 'q' at any time to quit.\n",
            "What is the artist's name? q\n"
          ]
        }
      ],
      "source": [
        "quit = True\n",
        "while True:\n",
        "  print(\"Enter 'q' at any time to quit.\")\n",
        "  know_song_num = ''\n",
        "  song_num = ''\n",
        "  artist_name = input(\"What is the artist's name? \")\n",
        "  if artist_name == \"q\":\n",
        "    break\n",
        "  album_name = input(\"What is the name of the album? \")\n",
        "  if album_name == \"q\":\n",
        "    break\n",
        "  song_num = input(f\"Optional: how many songs are in {album_name}? \")\n",
        "  if album_name == \"q\":\n",
        "    break\n",
        "  print(make_album(artist_name, album_name, song_num))"
      ]
    },
    {
      "cell_type": "markdown",
      "metadata": {
        "id": "Ublz5MwG4-P2"
      },
      "source": [
        "## Question 9\n",
        "**Messages:** Make a list containing a series of short text messages. Pass the list to a function called `show_messages()`, which prints each text message."
      ]
    },
    {
      "cell_type": "code",
      "execution_count": null,
      "metadata": {
        "id": "JQD9aL_k4-P2",
        "colab": {
          "base_uri": "https://localhost:8080/"
        },
        "outputId": "d50ec767-2d1b-4451-f42c-c89b1db0f816"
      },
      "outputs": [
        {
          "output_type": "stream",
          "name": "stdout",
          "text": [
            "gg\n",
            "yo\n",
            "whazzaa\n",
            "sus\n"
          ]
        }
      ],
      "source": [
        "def show_messages(texts):\n",
        "  for text in texts:\n",
        "    print(text)\n",
        "\n",
        "texts = [\"gg\", \"yo\", \"whazzaa\", \"sus\"]\n",
        "show_messages(texts)"
      ]
    },
    {
      "cell_type": "markdown",
      "metadata": {
        "id": "0JCH6VA74-P2"
      },
      "source": [
        "## Question 10\n",
        "**Sending Messages:** Start with a copy of your program from Question 9. Write a function called `send_messages()` that prints each text message and moves each message to a new list called `sent_messages` as it’s printed. After calling the function, print both of your lists to make sure the messages were moved correctly."
      ]
    },
    {
      "cell_type": "code",
      "execution_count": null,
      "metadata": {
        "id": "GwaMrkuH4-P2",
        "colab": {
          "base_uri": "https://localhost:8080/"
        },
        "outputId": "4d28ff35-f3de-487d-b347-be5616a160ce"
      },
      "outputs": [
        {
          "output_type": "stream",
          "name": "stdout",
          "text": [
            "sus\n",
            "whazzaa\n",
            "yo\n",
            "gg\n",
            "[]\n",
            "['sus', 'whazzaa', 'yo', 'gg']\n"
          ]
        }
      ],
      "source": [
        "def send_messages(texts, sent_messages):\n",
        "  while texts:\n",
        "    current_text = texts.pop()\n",
        "    sent_messages.append(current_text)\n",
        "    print(current_text)\n",
        "\n",
        "texts = [\"gg\", \"yo\", \"whazzaa\", \"sus\"]\n",
        "sent_messages = []\n",
        "\n",
        "send_messages(texts, sent_messages)\n",
        "print(texts)\n",
        "print(sent_messages)"
      ]
    },
    {
      "cell_type": "markdown",
      "metadata": {
        "id": "hNBPnBhK4-P2"
      },
      "source": [
        "## Question 11\n",
        "**Archived Messages:** Start with your work from Question 10. Call the function `send_messages()` with a copy of the list of messages. After calling the function, print both of your lists to show that the original list has retained its messages."
      ]
    },
    {
      "cell_type": "code",
      "execution_count": null,
      "metadata": {
        "id": "fZJlyL5x4-P2",
        "colab": {
          "base_uri": "https://localhost:8080/"
        },
        "outputId": "cb7c04b8-e323-4394-c727-d08bd322063e"
      },
      "outputs": [
        {
          "output_type": "stream",
          "name": "stdout",
          "text": [
            "sus\n",
            "whazzaa\n",
            "yo\n",
            "gg\n",
            "['gg', 'yo', 'whazzaa', 'sus']\n",
            "['sus', 'whazzaa', 'yo', 'gg']\n"
          ]
        }
      ],
      "source": [
        "texts = [\"gg\", \"yo\", \"whazzaa\", \"sus\"]\n",
        "sent_messages = []\n",
        "\n",
        "send_messages(texts[:], sent_messages)\n",
        "\n",
        "print(texts)\n",
        "print(sent_messages)"
      ]
    },
    {
      "cell_type": "markdown",
      "metadata": {
        "id": "uG-QH5WK4-P2"
      },
      "source": [
        "## Question 12\n",
        "**Sandwiches:** Write a function that accepts a list of items a person wants on a sandwich. The function should have one parameter that collects as many items as the function call provides, and it should print a summary of the sandwich that’s being ordered. Call the function three times, using a different number of arguments each time."
      ]
    },
    {
      "cell_type": "code",
      "execution_count": null,
      "metadata": {
        "id": "fU7Vcdv14-P2",
        "colab": {
          "base_uri": "https://localhost:8080/"
        },
        "outputId": "767ff8e2-00be-4800-a36a-b6c0ddb3efe8"
      },
      "outputs": [
        {
          "output_type": "stream",
          "name": "stdout",
          "text": [
            "('pepperoni',)\n",
            "('bacon', 'lettuce', 'tomato')\n",
            "('mustard', 'mayo', 'ranch', 'salt', 'vinegar', '1000 island')\n"
          ]
        }
      ],
      "source": [
        "def sandwich_ingredients(*toppings):\n",
        "  print(toppings)\n",
        "\n",
        "sandwich_ingredients(\"pepperoni\")\n",
        "sandwich_ingredients(\"bacon\", \"lettuce\", \"tomato\")\n",
        "sandwich_ingredients(\"mustard\", \"mayo\", \"ranch\", \"salt\", \"vinegar\", \"1000 island\")"
      ]
    },
    {
      "cell_type": "markdown",
      "metadata": {
        "id": "d20VerLW4-P2"
      },
      "source": [
        "## Question 13\n",
        "**Cars:** Write a function that stores information about a car in a dictionary. The function should always receive a manufacturer and a model name. It should then accept an arbitrary number of keyword arguments. Call the function with the required information and two other name-value pairs, such as a color or an optional feature. Your function should work for a call like this one:\n",
        "```\n",
        "car = make_car('subaru', 'outback', color='blue', tow_package=True)\n",
        "```\n",
        "Print the dictionary that’s returned to make sure all the information was stored correctly."
      ]
    },
    {
      "cell_type": "code",
      "execution_count": null,
      "metadata": {
        "id": "9VYmEol34-P2",
        "colab": {
          "base_uri": "https://localhost:8080/"
        },
        "outputId": "dd449ed4-07cf-41b8-a6e8-ef46c28d7288"
      },
      "outputs": [
        {
          "output_type": "stream",
          "name": "stdout",
          "text": [
            "{'color': 'red', 'airbags': 'not included', 'manufacturer': 'Nissan', 'model': 'Sentra'}\n"
          ]
        }
      ],
      "source": [
        "def car_details(manufacturer, model, **details):\n",
        "  details['manufacturer'] = manufacturer\n",
        "  details['model'] = model\n",
        "  return details\n",
        "\n",
        "print(car_details('Nissan', 'Sentra', color ='red', airbags = 'not included'))"
      ]
    },
    {
      "cell_type": "markdown",
      "metadata": {
        "id": "VWk_lDVR4-P2"
      },
      "source": [
        "## Question 14\n",
        "**Restaurant:** Make a class called `Restaurant`. The `__init__()` method for `Restaurant` should store two attributes: a `restaurant_name` and a `cuisine_type`. Make a method called `describe_restaurant()` that prints these two pieces of information, and a method called `open_restaurant()` that prints a message indicating that the restaurant is open.\n",
        "\n",
        "Make an instance called `restaurant` from your class. Print the two attributes individually, and then call both methods."
      ]
    },
    {
      "cell_type": "code",
      "execution_count": null,
      "metadata": {
        "id": "HIncLIIO4-P2",
        "colab": {
          "base_uri": "https://localhost:8080/"
        },
        "outputId": "04f10640-d23a-4a87-c8bd-c0cc023f585f"
      },
      "outputs": [
        {
          "output_type": "stream",
          "name": "stdout",
          "text": [
            "Applebee's\n",
            "American food\n",
            "At Applebee's, we serve American food.\n",
            "Applebee's is now open for business!\n"
          ]
        }
      ],
      "source": [
        "class Restaurant:\n",
        "  def __init__(self, restaurant_name, cuisine_type):\n",
        "    self.restaurant_name = restaurant_name\n",
        "    self.cuisine_type = cuisine_type\n",
        "\n",
        "  def describe_restaurant(self):\n",
        "    print(f\"At {self.restaurant_name}, we serve {self.cuisine_type}.\")\n",
        "\n",
        "  def open_restaurant(self):\n",
        "    print(f\"{self.restaurant_name} is now open for business!\")\n",
        "\n",
        "restaurant = Restaurant(\"Applebee's\", \"American food\")\n",
        "print(restaurant.restaurant_name)\n",
        "print(restaurant.cuisine_type)\n",
        "\n",
        "restaurant.describe_restaurant()\n",
        "restaurant.open_restaurant()"
      ]
    },
    {
      "cell_type": "markdown",
      "metadata": {
        "id": "np8W90U14-P2"
      },
      "source": [
        "## Question 15\n",
        "**Three Restaurants:** Start with your class from Question 14. Create three different instances from the class, and call `describe_restaurant()` for each instance."
      ]
    },
    {
      "cell_type": "code",
      "execution_count": null,
      "metadata": {
        "id": "yVobDqQY4-P2",
        "colab": {
          "base_uri": "https://localhost:8080/"
        },
        "outputId": "9efac9e0-a1da-4268-9822-6bb50c0e2a19"
      },
      "outputs": [
        {
          "output_type": "stream",
          "name": "stdout",
          "text": [
            "At Papa Johns, we serve pizza.\n",
            "At Subway, we serve sandwiches.\n",
            "At Guigino's, we serve Italian.\n"
          ]
        }
      ],
      "source": [
        "restaurant1 = Restaurant(\"Papa Johns\", \"pizza\")\n",
        "restaurant2 = Restaurant(\"Subway\", \"sandwiches\")\n",
        "restaurant3 = Restaurant(\"Guigino's\", \"Italian\")\n",
        "\n",
        "restaurant1.describe_restaurant()\n",
        "restaurant2.describe_restaurant()\n",
        "restaurant3.describe_restaurant()"
      ]
    },
    {
      "cell_type": "markdown",
      "metadata": {
        "id": "8tF1XL994-P2"
      },
      "source": [
        "## Question 16\n",
        "**Users:** Make a class called `User`. Create two attributes called `first_name` and `last_name`, and then create several other attributes that are typically stored in a user profile. Make a method called `describe_user()` that prints a summary of the user’s information. Make another method called `greet_user()` that prints a personalized greeting to the user.\n",
        "\n",
        "Create several instances representing different users, and call both methods for each user."
      ]
    },
    {
      "cell_type": "code",
      "execution_count": null,
      "metadata": {
        "id": "KT1yBNuA4-P3",
        "colab": {
          "base_uri": "https://localhost:8080/"
        },
        "outputId": "5892b03a-d625-4ada-cb64-5ec34b5e9d49"
      },
      "outputs": [
        {
          "output_type": "stream",
          "name": "stdout",
          "text": [
            "Hi, Sam, thanks for logging on.\n",
            "Sam Kilgore, also known on this platform as skilgore, works in math. He is a Aquarius.\n",
            "\n",
            "\n",
            "Hi, Bill, thanks for logging on.\n",
            "Bill John, also known on this platform as billistheman, works in construction. He is a Cancer.\n",
            "\n",
            "\n",
            "Hi, Jan, thanks for logging on.\n",
            "Jan Scott, also known on this platform as janjan, works in manufacturing. She is a Taurus.\n"
          ]
        }
      ],
      "source": [
        "class User:\n",
        "  def __init__(self, first_name, last_name, star_sign, username, profession, pronoun):\n",
        "    self.first_name = first_name.title()\n",
        "    self.last_name = last_name.title()\n",
        "    self.star_sign = star_sign.title()\n",
        "    self.username = username\n",
        "    self.profession = profession\n",
        "    self.pronoun = pronoun.title()\n",
        "\n",
        "  def describe_user(self):\n",
        "    print(f\"{self.first_name} {self.last_name}, also known on this platform as {self.username}, works in {self.profession}. {self.pronoun} is a {self.star_sign}.\")\n",
        "\n",
        "  def greet_user(self):\n",
        "    print(f\"Hi, {self.first_name}, thanks for logging on.\")\n",
        "\n",
        "person = User(\"Sam\", \"kilgore\", \"Aquarius\", \"skilgore\", \"math\", \"he\")\n",
        "person.greet_user()\n",
        "person.describe_user()\n",
        "\n",
        "print(\"\\n\")\n",
        "\n",
        "person = User(\"Bill\", \"John\", \"Cancer\", \"billistheman\", \"construction\", \"he\")\n",
        "person.greet_user()\n",
        "person.describe_user()\n",
        "\n",
        "print(\"\\n\")\n",
        "\n",
        "person = User(\"Jan\", \"Scott\", \"taurus\", \"janjan\", \"manufacturing\", \"she\")\n",
        "person.greet_user()\n",
        "person.describe_user()"
      ]
    },
    {
      "cell_type": "markdown",
      "metadata": {
        "id": "fCJSoi8y4-P3"
      },
      "source": [
        "## Question 17\n",
        "**Number Served:** Start with your program from Question 14. Add an attribute called `number_served` with a default value of 0. Create an instance called `restaurant` from this class. Print the number of customers the restaurant has served, and then change this value and print it again.\n",
        "\n",
        "Add a method called `set_number_served()` that lets you set the number of customers that have been served. Call this method with a new number and print the value again.\n",
        "\n",
        "Add a method called `increment_number_served()` that lets you increment the number of customers who’ve been served.\n",
        "\n",
        "Call this method with any number you like that could represent how many customers were served in, say, a day of business."
      ]
    },
    {
      "cell_type": "code",
      "execution_count": 15,
      "metadata": {
        "id": "K6CtS50g4-P3",
        "colab": {
          "base_uri": "https://localhost:8080/"
        },
        "outputId": "6a8f40e3-9abf-4997-d4f5-f23b93fc6ba8"
      },
      "outputs": [
        {
          "output_type": "stream",
          "name": "stdout",
          "text": [
            "0 people have been served.\n",
            "12 people have been served.\n",
            "13 people have been served.\n",
            "103 people have been served.\n"
          ]
        }
      ],
      "source": [
        "class Restaurant:\n",
        "  def __init__(self, restaurant_name, cuisine_type):\n",
        "    self.restaurant_name = restaurant_name\n",
        "    self.cuisine_type = cuisine_type\n",
        "    self.number_served = 0\n",
        "\n",
        "  def describe_restaurant(self):\n",
        "    print(f\"At {self.restaurant_name}, we serve {self.cuisine_type}.\")\n",
        "\n",
        "  def open_restaurant(self):\n",
        "    print(f\"{self.restaurant_name} is now open for business!\")\n",
        "\n",
        "  def get_number_served(self):\n",
        "    print(f\"{self.number_served} people have been served.\")\n",
        "\n",
        "  def set_number_served(self, new_number_served):\n",
        "    self.number_served = new_number_served\n",
        "\n",
        "  def increment_number_served(self, parties):\n",
        "    self.number_served += parties\n",
        "\n",
        "restaurant = Restaurant(\"Papa Johns\", \"pizza\")\n",
        "restaurant.get_number_served()\n",
        "\n",
        "restaurant.number_served = 12\n",
        "restaurant.get_number_served()\n",
        "\n",
        "restaurant.set_number_served(13)\n",
        "restaurant.get_number_served()\n",
        "\n",
        "restaurant.increment_number_served(90)\n",
        "restaurant.get_number_served()"
      ]
    },
    {
      "cell_type": "markdown",
      "metadata": {
        "id": "ji48qok44-P3"
      },
      "source": [
        "## Question 18\n",
        "**Login Attempts:** Add an attribute called login_attempts to your User class from Question 16. Write a method called `increment_login_attempts()` that increments the value of `login_attempts` by 1. Write another method called `reset_login_attempts()` that resets the value of login_attempts to 0.\n",
        "\n",
        "Make an instance of the `User` class and call `increment_login_attempts()` several times. Print the value of `login_attempts` to make sure it was incremented properly, and then call `reset_login_attempts()`. Print `login_attempts` again to make sure it was reset to 0."
      ]
    },
    {
      "cell_type": "code",
      "execution_count": 18,
      "metadata": {
        "id": "G3Mj5NmX4-P3",
        "colab": {
          "base_uri": "https://localhost:8080/"
        },
        "outputId": "ba250178-6fc6-4cd1-a0b2-09ff0df1cd43"
      },
      "outputs": [
        {
          "output_type": "stream",
          "name": "stdout",
          "text": [
            "6\n",
            "0\n"
          ]
        }
      ],
      "source": [
        "class User:\n",
        "  def __init__(self, first_name, last_name, star_sign, username, profession, pronoun):\n",
        "    self.first_name = first_name.title()\n",
        "    self.last_name = last_name.title()\n",
        "    self.star_sign = star_sign.title()\n",
        "    self.username = username\n",
        "    self.profession = profession\n",
        "    self.pronoun = pronoun.title()\n",
        "    self.login_attempts = 0\n",
        "\n",
        "  def describe_user(self):\n",
        "    print(f\"{self.first_name} {self.last_name}, also known on this platform as {self.username}, works in {self.profession}. {self.pronoun} is a {self.star_sign}.\")\n",
        "\n",
        "  def greet_user(self):\n",
        "    print(f\"Hi, {self.first_name}, thanks for logging on.\")\n",
        "\n",
        "  def increment_login_attempts(self):\n",
        "    self.login_attempts += 1\n",
        "\n",
        "  def reset_login_attempts(self):\n",
        "    self.login_attempts = 0\n",
        "\n",
        "person = User(\"Sam\", \"kilgore\", \"Aquarius\", \"skilgore\", \"math\", \"he\")\n",
        "person.increment_login_attempts()\n",
        "person.increment_login_attempts()\n",
        "person.increment_login_attempts()\n",
        "person.increment_login_attempts()\n",
        "person.increment_login_attempts()\n",
        "person.increment_login_attempts()\n",
        "print(person.login_attempts)\n",
        "person.reset_login_attempts()\n",
        "print(person.login_attempts)"
      ]
    },
    {
      "cell_type": "markdown",
      "metadata": {
        "id": "BtTZePx84-P3"
      },
      "source": [
        "## Question 19\n",
        "**Dice:** Make a class `Die` with one attribute called `sides`, which has a default value of 6. Write a method called `roll_die()` that prints a random number between 1 and the number of sides the die has. Make a 6-sided die and roll it 10 times.\n",
        "\n",
        "Make a 10-sided die and a 20-sided die. Roll each die 10 times."
      ]
    },
    {
      "cell_type": "code",
      "execution_count": 34,
      "metadata": {
        "id": "2iCA_AWA4-P9",
        "colab": {
          "base_uri": "https://localhost:8080/"
        },
        "outputId": "f33e9441-caaa-4b25-91c4-e27cc8721a7b"
      },
      "outputs": [
        {
          "output_type": "stream",
          "name": "stdout",
          "text": [
            "1 out of 6 sides.\n",
            "3 out of 6 sides.\n",
            "4 out of 6 sides.\n",
            "6 out of 6 sides.\n",
            "5 out of 6 sides.\n",
            "2 out of 6 sides.\n",
            "5 out of 6 sides.\n",
            "5 out of 6 sides.\n",
            "1 out of 6 sides.\n",
            "1 out of 6 sides.\n",
            "\n",
            "\n",
            "4 out of 20 sides.\n",
            "10 out of 20 sides.\n",
            "3 out of 20 sides.\n",
            "10 out of 20 sides.\n",
            "20 out of 20 sides.\n",
            "12 out of 20 sides.\n",
            "14 out of 20 sides.\n",
            "2 out of 20 sides.\n",
            "10 out of 20 sides.\n",
            "3 out of 20 sides.\n"
          ]
        }
      ],
      "source": [
        "from random import randint\n",
        "class Die:\n",
        "  def __init__(self):\n",
        "    self.sides = 6\n",
        "\n",
        "  def roll_die(self):\n",
        "    print(f\"{randint(1,self.sides)} out of {self.sides} sides.\")\n",
        "\n",
        "die = Die()\n",
        "die.roll_die()\n",
        "die.roll_die()\n",
        "die.roll_die()\n",
        "die.roll_die()\n",
        "die.roll_die()\n",
        "die.roll_die()\n",
        "die.roll_die()\n",
        "die.roll_die()\n",
        "die.roll_die()\n",
        "die.roll_die()\n",
        "\n",
        "print(\"\\n\")\n",
        "\n",
        "die.sides = 20\n",
        "die.roll_die()\n",
        "die.roll_die()\n",
        "die.roll_die()\n",
        "die.roll_die()\n",
        "die.roll_die()\n",
        "die.roll_die()\n",
        "die.roll_die()\n",
        "die.roll_die()\n",
        "die.roll_die()\n",
        "die.roll_die()"
      ]
    },
    {
      "cell_type": "markdown",
      "metadata": {
        "id": "Swo9l-9f4-P9"
      },
      "source": [
        "## Question 20\n",
        "**Lottery:** Make a list or tuple containing a series of 10 numbers and five letters. Randomly select four numbers or letters from the list and print a message saying that any ticket matching these four numbers or letters wins a prize.\n",
        "\n",
        "You can use a loop to see how hard it might be to win the kind of lottery you just modeled. Make a list or tuple called `my_ticket`. Write a loop that keeps pulling numbers until your ticket wins. Print a message reporting how many times the loop had to run to give you a winning ticket."
      ]
    },
    {
      "cell_type": "code",
      "execution_count": 63,
      "metadata": {
        "id": "ggSaifeV4-P9",
        "colab": {
          "base_uri": "https://localhost:8080/"
        },
        "outputId": "0b2ad488-1b9b-4e5e-86ce-6c993d445a54"
      },
      "outputs": [
        {
          "output_type": "stream",
          "name": "stdout",
          "text": [
            "Anyone with \"56aa\" on their ticket has won the jackpot.\n",
            "The loop had to run 7959 time(s) to get to the winning ticket.\n"
          ]
        }
      ],
      "source": [
        "from random import choice\n",
        "samslist = [0, 1, 2, 3, 4, 5, 6, 7, 8, 9, 'a', 'b', 'c', 'd', 'e']\n",
        "\n",
        "winningseq = str(choice(samslist)) + str(choice(samslist)) + str(choice(samslist)) + str(choice(samslist))\n",
        "\n",
        "print(f\"Anyone with \\\"{winningseq}\\\" on their ticket has won the jackpot.\")\n",
        "\n",
        "ticket = \"0\"\n",
        "ticket_counter = 0\n",
        "while ticket != winningseq:\n",
        "  ticket_counter += 1\n",
        "  ticket = str(choice(samslist)) + str(choice(samslist)) + str(choice(samslist)) + str(choice(samslist))\n",
        "\n",
        "print(f\"The loop had to run {ticket_counter} time(s) to get to the winning ticket.\")"
      ]
    }
  ],
  "metadata": {
    "kernelspec": {
      "display_name": "Python 3 (ipykernel)",
      "language": "python",
      "name": "python3"
    },
    "language_info": {
      "codemirror_mode": {
        "name": "ipython",
        "version": 3
      },
      "file_extension": ".py",
      "mimetype": "text/x-python",
      "name": "python",
      "nbconvert_exporter": "python",
      "pygments_lexer": "ipython3",
      "version": "3.8.10"
    },
    "colab": {
      "provenance": []
    }
  },
  "nbformat": 4,
  "nbformat_minor": 0
}
